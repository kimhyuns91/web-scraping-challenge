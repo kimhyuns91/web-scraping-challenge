{
 "cells": [
  {
   "cell_type": "code",
   "execution_count": 1,
   "metadata": {},
   "outputs": [],
   "source": [
    "#Imports\n",
    "from splinter import Browser\n",
    "from bs4 import BeautifulSoup\n",
    "import pandas as pd\n",
    "import time"
   ]
  },
  {
   "cell_type": "code",
   "execution_count": 2,
   "metadata": {},
   "outputs": [
    {
     "name": "stdout",
     "output_type": "stream",
     "text": [
      "/usr/local/bin/chromedriver\n"
     ]
    }
   ],
   "source": [
    "!which chromedriver"
   ]
  },
  {
   "cell_type": "code",
   "execution_count": 3,
   "metadata": {},
   "outputs": [],
   "source": [
    "executable_path = {'executable_path': '/usr/local/bin/chromedriver'}\n",
    "browser = Browser('chrome', **executable_path, headless=True)"
   ]
  },
  {
   "cell_type": "code",
   "execution_count": 4,
   "metadata": {},
   "outputs": [],
   "source": [
    "# url = \"https://mars.nasa.gov/news/?page=0&per_page=40&order=publish_date+desc%2Ccreated_at+desc&search=&category=19%2C165%2C184%2C204&blank_scope=Latest\"\n",
    "# browser.visit(url)\n",
    "\n",
    "# html = browser.html\n",
    "# soup = BeautifulSoup(html, \"html.parser\")\n",
    "\n",
    "# # print(soup.prettify())\n",
    "\n",
    "# # results = soup.find_all('li', class_='slide')\n",
    "\n",
    "# for result in results:\n",
    "#     try:\n",
    "#         title = result.find(class_='content_title').text\n",
    "#         news_p= result.find(class_='article_teaser_body').text\n",
    "#         if (title and news_p):\n",
    "#             print('-------------------------')\n",
    "#             print(title)\n",
    "#             print(news_p)\n",
    "#     except AttributeError as e:\n",
    "#         print(e)"
   ]
  },
  {
   "cell_type": "code",
   "execution_count": 7,
   "metadata": {},
   "outputs": [],
   "source": [
    "def init_browser():\n",
    "\n",
    "    executable_path = {'executable_path': '/usr/local/bin/chromedriver'}\n",
    "    return Browser('chrome', **executable_path, headless=True)"
   ]
  },
  {
   "cell_type": "code",
   "execution_count": 8,
   "metadata": {},
   "outputs": [],
   "source": [
    "def nasa():\n",
    "    \n",
    "    browser = init_browser()\n",
    "    url = \"https://mars.nasa.gov/news/?page=0&per_page=40&order=publish_date+desc%2Ccreated_at+desc&search=&category=19%2C165%2C184%2C204&blank_scope=Latest\"\n",
    "    browser.visit(url)\n",
    "    \n",
    "    html = browser.html\n",
    "    soup = BeautifulSoup(html, \"html.parser\")\n",
    "\n",
    "    \n",
    "    results = soup.find_all('li', class_='slide')\n",
    "    \n",
    "    \n",
    "    news_title=[]\n",
    "    news_p=[]\n",
    "    \n",
    "    for result in results:\n",
    "        news_title.append(result.find(class_='content_title').get_text())\n",
    "        news_p.append(result.find(class_='article_teaser_body').get_text())\n",
    "            \n",
    "    return news_title, news_p\n",
    "\n",
    "\n",
    "\n"
   ]
  },
  {
   "cell_type": "code",
   "execution_count": 9,
   "metadata": {},
   "outputs": [
    {
     "data": {
      "text/plain": [
       "([\"How NASA's Mars Helicopter Will Reach the Red Planet's Surface\",\n",
       "  \"The Launch Is Approaching for NASA's Next Mars Rover, Perseverance\",\n",
       "  'NASA to Hold Mars 2020 Perseverance Rover Launch Briefing',\n",
       "  \"While Stargazing on Mars, NASA's Curiosity Rover Spots Earth and Venus\",\n",
       "  \"NASA's Mars Rover Drivers Need Your Help\",\n",
       "  \"Three New Views of Mars' Moon Phobos\",\n",
       "  \"The Extraordinary Sample-Gathering System of NASA's Perseverance Mars Rover\",\n",
       "  \"The Detective Aboard NASA's Perseverance Rover\",\n",
       "  'MAVEN Maps Electric Currents around Mars that are Fundamental to Atmospheric Loss',\n",
       "  \"Air Deliveries Bring NASA's Perseverance Mars Rover Closer to Launch\",\n",
       "  \"NASA Wins 4 Webbys, 4 People's Voice Awards\",\n",
       "  \"NASA's Perseverance Rover Goes Through Trials by Fire, Ice, Light and Sound\",\n",
       "  \"NASA's Perseverance Rover Mission Getting in Shape for Launch\",\n",
       "  'NASA Perseverance Mars Rover Scientists Train in the Nevada Desert',\n",
       "  \"NASA's Perseverance Rover Will Look at Mars Through These 'Eyes'\",\n",
       "  \"Meet the People Behind NASA's Perseverance Rover\",\n",
       "  \"Q&A with the Student Who Named Ingenuity, NASA's Mars Helicopter\",\n",
       "  \"Alabama High School Student Names NASA's Mars Helicopter\",\n",
       "  \"How NASA's Perseverance Mars Team Adjusted to Work in the Time of Coronavirus \",\n",
       "  \"NASA's Perseverance Mars Rover Gets Balanced\",\n",
       "  \"NASA's Curiosity Keeps Rolling As Team Operates Rover From Home\",\n",
       "  \"Mars Helicopter Attached to NASA's Perseverance Rover\",\n",
       "  \"NASA's Perseverance Mars Rover Gets Its Wheels and Air Brakes\",\n",
       "  'The Man Who Wanted to Fly on Mars',\n",
       "  \"10.9 Million Names Now Aboard NASA's Perseverance Mars Rover\",\n",
       "  \"NASA's Curiosity Mars Rover Takes a New Selfie Before Record Climb\",\n",
       "  \"NASA's Mars Perseverance Rover Gets Its Sample Handling System\",\n",
       "  \"Virginia Middle School Student Earns Honor of Naming NASA's Next Mars Rover\",\n",
       "  \"NASA's Curiosity Mars Rover Snaps Its Highest-Resolution Panorama Yet\",\n",
       "  'NASA to Reveal Name of Its Next Mars Rover',\n",
       "  'The MarCO Mission Comes to an End',\n",
       "  \"A Year of Surprising Science From NASA's InSight Mars Mission\",\n",
       "  \"Mars InSight Lander to Push on Top of the 'Mole'\",\n",
       "  \"Common Questions about InSight's 'Mole'\",\n",
       "  'NASA Adds Return Sample Scientists to Mars 2020 Leadership Team',\n",
       "  \"NASA's Mars Reconnaissance Orbiter Undergoes Memory Update\",\n",
       "  \"NASA's Mars 2020 Rover Goes Coast-to-Coast to Prep for Launch\",\n",
       "  'NASA Prepares for Moon and Mars With New Addition to Its Deep Space Network',\n",
       "  'NASA Administrator Statement on Moon to Mars Initiative, FY 2021 Budget',\n",
       "  \"All About the Laser (and Microphone) Atop Mars 2020, NASA's Next Rover\"],\n",
       " ['The small craft will seek to prove that powered, controlled flight is possible on another planet. But just getting it onto the surface of Mars will take a whole lot of ingenuity.',\n",
       "  \"The Red Planet's surface has been visited by eight NASA spacecraft. The ninth will be the first that includes a roundtrip ticket in its flight plan. \",\n",
       "  \"Learn more about the agency's next Red Planet mission during a live event on June 17.\",\n",
       "  \"This new portrait of the Red Planet's neighbors was taken during a time when there's more dust in the air on Mars.\",\n",
       "  'Using an online tool to label Martian terrain types, you can train an artificial intelligence algorithm that could improve the way engineers guide the Curiosity rover.',\n",
       "  \"Taken with the infrared camera aboard NASA's Odyssey orbiter, they reveal temperature variations on the small moon as it drifts into and out of Mars’ shadow.\",\n",
       "  'Two astronauts collected Moon rocks on Apollo 11. It will take three robotic systems working together to gather up the first Mars rock samples for return to Earth.',\n",
       "  'An instrument called SHERLOC will, with the help of its partner WATSON, hunt for signs of ancient life by detecting organic molecules and minerals.',\n",
       "  'Five years after NASA’s MAVEN spacecraft entered into orbit around Mars, data from the mission has led to the creation of a map of electric current systems in the Martian atmosphere.',\n",
       "  \"A NASA Wallops Flight Facility cargo plane transported more than two tons of equipment — including the rover's sample collection tubes — to Florida for this summer's liftoff.\",\n",
       "  'Winners include the JPL-managed \"Send Your Name to Mars\" campaign, NASA\\'s Global Climate Change website and Solar System Interactive.',\n",
       "  \"The agency's new Mars rover is put through a series of tests in vacuum chambers, acoustic chambers and more to get ready for the Red Planet.\",\n",
       "  'Stacking spacecraft components on top of each other is one of the final assembly steps before a mission launches to the Red Planet. ',\n",
       "  \"Team members searched for signs of ancient microscopic life there, just as NASA's latest rover will on the Red Planet next year.\",\n",
       "  'A pair of zoomable cameras will help scientists and rover drivers with high-resolution color images.',\n",
       "  \"These are the scientists and engineers who built NASA's next Mars rover and who will guide it to a safe landing in Jezero Crater. \",\n",
       "  'As a longtime fan of space exploration, Vaneeza Rupani appreciates the creativity and collaboration involved with trying to fly on another planet.',\n",
       "  \"Vaneeza Rupani's essay was chosen as the name for the small spacecraft, which will mark NASA's first attempt at powered flight on another planet.\",\n",
       "  'Like much of the rest of the world, the Mars rover team is pushing forward with its mission-critical work while putting the health and safety of their colleagues and community first.',\n",
       "  \"The mission team performed a crucial weight-balancing test on the rover in preparation for this summer's history-making launch to the Red Planet.\",\n",
       "  'The team has learned to meet new challenges as they work remotely on the Mars mission.',\n",
       "  \"The team also fueled the rover's sky crane to get ready for this summer's history-making launch.\",\n",
       "  'After the rover was shipped from JPL to Kennedy Space Center, the team is getting closer to finalizing the spacecraft for launch later this summer.',\n",
       "  \"The Mars Helicopter is riding to the Red Planet this summer with NASA's Perseverance rover. The helicopter's chief engineer, Bob Balaram, shares the saga of how it came into being.\",\n",
       "  \"As part of NASA's 'Send Your Name to Mars' campaign, they've been stenciled onto three microchips along with essays from NASA's 'Name the Rover' contest. Next stop: Mars.\",\n",
       "  'Along with capturing an image before its steepest ascent ever, the robotic explorer filmed its \"selfie stick,\" or robotic arm, in action.',\n",
       "  'The system will be collecting and storing Martian rock and soil. Its installation marks another milestone in the march toward the July launch period.',\n",
       "  'NASA chose a seventh-grader from Virginia as winner of the agency\\'s \"Name the Rover\" essay contest. Alexander Mather\\'s entry for \"Perseverance\" was voted tops among 28,000 entries. ',\n",
       "  'To go along with the stunning 1.8-billion-pixel image, a new video offers a sweeping view of the Red Planet.',\n",
       "  \"After a months-long contest among students to name NASA's newest Mars rover, the agency will reveal the winning name — and the winning student — this Thursday. \",\n",
       "  'The pair of briefcase-sized satellites made history when they sailed past Mars in 2019.',\n",
       "  \"A batch of new papers summarizes the lander's findings above and below the surface of the Red Planet.\",\n",
       "  'Engineers have a plan for pushing down on the heat probe, which has been stuck at the Martian surface for a year.',\n",
       "  'The following Q&As with members of the team answer some of the most common questions about the burrowing device, part of a science instrument called the Heat Flow and Physical Properties Package (HP3).',\n",
       "  'The leadership council for Mars 2020 science added two new members who represent the interests of scientists destined to handle and study the first samples from Red Planet.',\n",
       "  'Other orbiters will continue relaying data from Mars surface missions for a two-week period.',\n",
       "  \"The agency's first step in returning rocks from Mars just arrived at Kennedy Space Center. The Mars 2020 team now begins readying for a launch to the Red Planet this July.\",\n",
       "  'Robotic spacecraft will be able to communicate with the dish using radio waves and lasers.',\n",
       "  \"Jim Bridenstine addresses NASA's ambitious plans for the coming years, including Mars Sample Return.\",\n",
       "  'SuperCam is a rock-vaporizing instrument that will help scientists hunt for Mars fossils.'])"
      ]
     },
     "execution_count": 9,
     "metadata": {},
     "output_type": "execute_result"
    }
   ],
   "source": [
    "nasa()"
   ]
  },
  {
   "cell_type": "code",
   "execution_count": 10,
   "metadata": {},
   "outputs": [],
   "source": [
    "def jpl():\n",
    "    \n",
    "    browser = init_browser()\n",
    "    url = 'https://www.jpl.nasa.gov/spaceimages/?search=&category=Mars'\n",
    "    browser.visit(url)\n",
    "    \n",
    "    html = browser.html\n",
    "    soup = BeautifulSoup(html, \"html.parser\") \n",
    "\n",
    "    results = soup.find_all('a', class_='fancybox')\n",
    "    \n",
    "    \n",
    "    featured_image_url=[]\n",
    "    \n",
    "    for result in results:\n",
    "        featured_image_url.append('https://www.jpl.nasa.gov'+result['data-fancybox-href'])\n",
    "            \n",
    "    return featured_image_url\n"
   ]
  },
  {
   "cell_type": "code",
   "execution_count": 11,
   "metadata": {},
   "outputs": [
    {
     "data": {
      "text/plain": [
       "['https://www.jpl.nasa.gov/spaceimages/images/mediumsize/PIA17936_ip.jpg',\n",
       " 'https://www.jpl.nasa.gov/spaceimages/images/largesize/PIA23948_hires.jpg',\n",
       " 'https://www.jpl.nasa.gov/spaceimages/images/largesize/PIA23900_hires.jpg',\n",
       " 'https://www.jpl.nasa.gov/spaceimages/images/largesize/PIA23947_hires.jpg',\n",
       " 'https://www.jpl.nasa.gov/spaceimages/images/largesize/PIA23899_hires.jpg',\n",
       " 'https://www.jpl.nasa.gov/spaceimages/images/largesize/PIA23946_hires.jpg',\n",
       " 'https://www.jpl.nasa.gov/spaceimages/images/largesize/PIA23897_hires.jpg',\n",
       " 'https://www.jpl.nasa.gov/spaceimages/images/largesize/PIA23945_hires.jpg',\n",
       " 'https://www.jpl.nasa.gov/spaceimages/images/largesize/PIA23944_hires.jpg',\n",
       " 'https://www.jpl.nasa.gov/spaceimages/images/largesize/PIA23943_hires.jpg',\n",
       " 'https://www.jpl.nasa.gov/spaceimages/images/largesize/PIA23942_hires.jpg',\n",
       " 'https://www.jpl.nasa.gov/spaceimages/images/largesize/PIA23893_hires.jpg',\n",
       " 'https://www.jpl.nasa.gov/spaceimages/images/largesize/PIA23941_hires.jpg',\n",
       " 'https://www.jpl.nasa.gov/spaceimages/images/largesize/PIA23940_hires.jpg',\n",
       " 'https://www.jpl.nasa.gov/spaceimages/images/largesize/PIA23939_hires.jpg',\n",
       " 'https://www.jpl.nasa.gov/spaceimages/images/largesize/PIA23938_hires.jpg',\n",
       " 'https://www.jpl.nasa.gov/spaceimages/images/largesize/PIA23954_hires.jpg',\n",
       " 'https://www.jpl.nasa.gov/spaceimages/images/largesize/PIA23953_hires.jpg',\n",
       " 'https://www.jpl.nasa.gov/spaceimages/images/largesize/PIA23952_hires.jpg',\n",
       " 'https://www.jpl.nasa.gov/spaceimages/images/largesize/PIA23951_hires.jpg',\n",
       " 'https://www.jpl.nasa.gov/spaceimages/images/largesize/PIA23937_hires.jpg',\n",
       " 'https://www.jpl.nasa.gov/spaceimages/images/largesize/PIA23936_hires.jpg',\n",
       " 'https://www.jpl.nasa.gov/spaceimages/images/largesize/PIA23935_hires.jpg',\n",
       " 'https://www.jpl.nasa.gov/spaceimages/images/largesize/PIA23934_hires.jpg',\n",
       " 'https://www.jpl.nasa.gov/spaceimages/images/largesize/PIA23933_hires.jpg',\n",
       " 'https://www.jpl.nasa.gov/spaceimages/images/largesize/PIA23932_hires.jpg',\n",
       " 'https://www.jpl.nasa.gov/spaceimages/images/largesize/PIA23931_hires.jpg',\n",
       " 'https://www.jpl.nasa.gov/spaceimages/images/largesize/PIA23930_hires.jpg',\n",
       " 'https://www.jpl.nasa.gov/spaceimages/images/largesize/PIA23929_hires.jpg',\n",
       " 'https://www.jpl.nasa.gov/spaceimages/images/largesize/PIA23928_hires.jpg',\n",
       " 'https://www.jpl.nasa.gov/spaceimages/images/largesize/PIA23927_hires.jpg',\n",
       " 'https://www.jpl.nasa.gov/spaceimages/images/largesize/PIA23926_hires.jpg',\n",
       " 'https://www.jpl.nasa.gov/spaceimages/images/largesize/PIA23910_hires.jpg']"
      ]
     },
     "execution_count": 11,
     "metadata": {},
     "output_type": "execute_result"
    }
   ],
   "source": [
    "jpl()"
   ]
  },
  {
   "cell_type": "code",
   "execution_count": 90,
   "metadata": {},
   "outputs": [],
   "source": [
    "# url ='https://twitter.com/marswxreport?lang=en'\n",
    "# browser.visit(url)\n",
    "# time.sleep(5)\n",
    "\n",
    "# html = browser.html\n",
    "# soup = BeautifulSoup(html, \"html.parser\")\n",
    "\n",
    "# # print(soup.prettify())\n",
    "\n",
    "# results3 = soup.find_all('article', attrs ={'role':'article'})\n",
    "\n",
    "# weather_text=results3[0].find_all('span', attrs = {'class':'css-901oao css-16my406 r-1qd0xha r-ad9z0x r-bcqeeo r-qvutc0'})\n",
    "\n",
    "# weather_text_cleaned=weather_text[4].text.replace('\\n', ' ')"
   ]
  },
  {
   "cell_type": "code",
   "execution_count": 12,
   "metadata": {},
   "outputs": [],
   "source": [
    "def twit():\n",
    "    \n",
    "    url ='https://twitter.com/marswxreport?lang=en'\n",
    "    browser.visit(url)\n",
    "    time.sleep(5)\n",
    "\n",
    "    html = browser.html\n",
    "    soup = BeautifulSoup(html, \"html.parser\")\n",
    "\n",
    "    results3 = soup.find_all('article', attrs ={'role':'article'})\n",
    "\n",
    "    weather_text=results3[0].find_all('span', attrs = {'class':'css-901oao css-16my406 r-1qd0xha r-ad9z0x r-bcqeeo r-qvutc0'})\n",
    "\n",
    "    weather_text_cleaned=weather_text[4].text.replace('\\n', ' ')\n",
    "    \n",
    "    return weather_text_cleaned"
   ]
  },
  {
   "cell_type": "code",
   "execution_count": 13,
   "metadata": {},
   "outputs": [
    {
     "data": {
      "text/plain": [
       "'InSight sol 563 (2020-06-27) low -89.5ºC (-129.1ºF) high -3.9ºC (25.0ºF) winds from the SW at 5.5 m/s (12.3 mph) gusting to 18.5 m/s (41.3 mph) pressure at 7.60 hPa'"
      ]
     },
     "execution_count": 13,
     "metadata": {},
     "output_type": "execute_result"
    }
   ],
   "source": [
    "twit()"
   ]
  },
  {
   "cell_type": "code",
   "execution_count": 14,
   "metadata": {},
   "outputs": [],
   "source": [
    "url = 'https://space-facts.com/mars/'\n",
    "tables = pd.read_html(url)"
   ]
  },
  {
   "cell_type": "code",
   "execution_count": 15,
   "metadata": {},
   "outputs": [
    {
     "data": {
      "text/html": [
       "<div>\n",
       "<style scoped>\n",
       "    .dataframe tbody tr th:only-of-type {\n",
       "        vertical-align: middle;\n",
       "    }\n",
       "\n",
       "    .dataframe tbody tr th {\n",
       "        vertical-align: top;\n",
       "    }\n",
       "\n",
       "    .dataframe thead th {\n",
       "        text-align: right;\n",
       "    }\n",
       "</style>\n",
       "<table border=\"1\" class=\"dataframe\">\n",
       "  <thead>\n",
       "    <tr style=\"text-align: right;\">\n",
       "      <th></th>\n",
       "      <th>0</th>\n",
       "      <th>1</th>\n",
       "    </tr>\n",
       "  </thead>\n",
       "  <tbody>\n",
       "    <tr>\n",
       "      <th>0</th>\n",
       "      <td>Equatorial Diameter:</td>\n",
       "      <td>6,792 km</td>\n",
       "    </tr>\n",
       "    <tr>\n",
       "      <th>1</th>\n",
       "      <td>Polar Diameter:</td>\n",
       "      <td>6,752 km</td>\n",
       "    </tr>\n",
       "    <tr>\n",
       "      <th>2</th>\n",
       "      <td>Mass:</td>\n",
       "      <td>6.39 × 10^23 kg (0.11 Earths)</td>\n",
       "    </tr>\n",
       "    <tr>\n",
       "      <th>3</th>\n",
       "      <td>Moons:</td>\n",
       "      <td>2 (Phobos &amp; Deimos)</td>\n",
       "    </tr>\n",
       "    <tr>\n",
       "      <th>4</th>\n",
       "      <td>Orbit Distance:</td>\n",
       "      <td>227,943,824 km (1.38 AU)</td>\n",
       "    </tr>\n",
       "    <tr>\n",
       "      <th>5</th>\n",
       "      <td>Orbit Period:</td>\n",
       "      <td>687 days (1.9 years)</td>\n",
       "    </tr>\n",
       "    <tr>\n",
       "      <th>6</th>\n",
       "      <td>Surface Temperature:</td>\n",
       "      <td>-87 to -5 °C</td>\n",
       "    </tr>\n",
       "    <tr>\n",
       "      <th>7</th>\n",
       "      <td>First Record:</td>\n",
       "      <td>2nd millennium BC</td>\n",
       "    </tr>\n",
       "    <tr>\n",
       "      <th>8</th>\n",
       "      <td>Recorded By:</td>\n",
       "      <td>Egyptian astronomers</td>\n",
       "    </tr>\n",
       "  </tbody>\n",
       "</table>\n",
       "</div>"
      ],
      "text/plain": [
       "                      0                              1\n",
       "0  Equatorial Diameter:                       6,792 km\n",
       "1       Polar Diameter:                       6,752 km\n",
       "2                 Mass:  6.39 × 10^23 kg (0.11 Earths)\n",
       "3                Moons:            2 (Phobos & Deimos)\n",
       "4       Orbit Distance:       227,943,824 km (1.38 AU)\n",
       "5         Orbit Period:           687 days (1.9 years)\n",
       "6  Surface Temperature:                   -87 to -5 °C\n",
       "7         First Record:              2nd millennium BC\n",
       "8          Recorded By:           Egyptian astronomers"
      ]
     },
     "execution_count": 15,
     "metadata": {},
     "output_type": "execute_result"
    }
   ],
   "source": [
    "facts=tables[0]\n",
    "facts"
   ]
  },
  {
   "cell_type": "code",
   "execution_count": 16,
   "metadata": {},
   "outputs": [
    {
     "data": {
      "text/html": [
       "<div>\n",
       "<style scoped>\n",
       "    .dataframe tbody tr th:only-of-type {\n",
       "        vertical-align: middle;\n",
       "    }\n",
       "\n",
       "    .dataframe tbody tr th {\n",
       "        vertical-align: top;\n",
       "    }\n",
       "\n",
       "    .dataframe thead th {\n",
       "        text-align: right;\n",
       "    }\n",
       "</style>\n",
       "<table border=\"1\" class=\"dataframe\">\n",
       "  <thead>\n",
       "    <tr style=\"text-align: right;\">\n",
       "      <th></th>\n",
       "      <th>Values</th>\n",
       "    </tr>\n",
       "    <tr>\n",
       "      <th>Facts</th>\n",
       "      <th></th>\n",
       "    </tr>\n",
       "  </thead>\n",
       "  <tbody>\n",
       "    <tr>\n",
       "      <th>Equatorial Diameter</th>\n",
       "      <td>6,792 km</td>\n",
       "    </tr>\n",
       "    <tr>\n",
       "      <th>Polar Diameter</th>\n",
       "      <td>6,752 km</td>\n",
       "    </tr>\n",
       "    <tr>\n",
       "      <th>Mass</th>\n",
       "      <td>6.39 × 10^23 kg (0.11 Earths)</td>\n",
       "    </tr>\n",
       "    <tr>\n",
       "      <th>Moons</th>\n",
       "      <td>2 (Phobos &amp; Deimos)</td>\n",
       "    </tr>\n",
       "    <tr>\n",
       "      <th>Orbit Distance</th>\n",
       "      <td>227,943,824 km (1.38 AU)</td>\n",
       "    </tr>\n",
       "    <tr>\n",
       "      <th>Orbit Period</th>\n",
       "      <td>687 days (1.9 years)</td>\n",
       "    </tr>\n",
       "    <tr>\n",
       "      <th>Surface Temperature</th>\n",
       "      <td>-87 to -5 °C</td>\n",
       "    </tr>\n",
       "    <tr>\n",
       "      <th>First Record</th>\n",
       "      <td>2nd millennium BC</td>\n",
       "    </tr>\n",
       "    <tr>\n",
       "      <th>Recorded By</th>\n",
       "      <td>Egyptian astronomers</td>\n",
       "    </tr>\n",
       "  </tbody>\n",
       "</table>\n",
       "</div>"
      ],
      "text/plain": [
       "                                            Values\n",
       "Facts                                             \n",
       "Equatorial Diameter                       6,792 km\n",
       "Polar Diameter                            6,752 km\n",
       "Mass                 6.39 × 10^23 kg (0.11 Earths)\n",
       "Moons                          2 (Phobos & Deimos)\n",
       "Orbit Distance            227,943,824 km (1.38 AU)\n",
       "Orbit Period                  687 days (1.9 years)\n",
       "Surface Temperature                   -87 to -5 °C\n",
       "First Record                     2nd millennium BC\n",
       "Recorded By                   Egyptian astronomers"
      ]
     },
     "execution_count": 16,
     "metadata": {},
     "output_type": "execute_result"
    }
   ],
   "source": [
    "#Removing the colon\n",
    "facts[0]=facts[0].str.strip(\":\")\n",
    "\n",
    "#Adding column labels\n",
    "facts.columns=['Facts', 'Values']\n",
    "\n",
    "#Add Index\n",
    "facts_df=facts.set_index('Facts')\n",
    "facts_df"
   ]
  },
  {
   "cell_type": "code",
   "execution_count": 17,
   "metadata": {},
   "outputs": [
    {
     "data": {
      "text/plain": [
       "'<table border=\"1\" class=\"dataframe\">\\n  <thead>\\n    <tr style=\"text-align: right;\">\\n      <th></th>\\n      <th>Values</th>\\n    </tr>\\n    <tr>\\n      <th>Facts</th>\\n      <th></th>\\n    </tr>\\n  </thead>\\n  <tbody>\\n    <tr>\\n      <th>Equatorial Diameter</th>\\n      <td>6,792 km</td>\\n    </tr>\\n    <tr>\\n      <th>Polar Diameter</th>\\n      <td>6,752 km</td>\\n    </tr>\\n    <tr>\\n      <th>Mass</th>\\n      <td>6.39 × 10^23 kg (0.11 Earths)</td>\\n    </tr>\\n    <tr>\\n      <th>Moons</th>\\n      <td>2 (Phobos &amp; Deimos)</td>\\n    </tr>\\n    <tr>\\n      <th>Orbit Distance</th>\\n      <td>227,943,824 km (1.38 AU)</td>\\n    </tr>\\n    <tr>\\n      <th>Orbit Period</th>\\n      <td>687 days (1.9 years)</td>\\n    </tr>\\n    <tr>\\n      <th>Surface Temperature</th>\\n      <td>-87 to -5 °C</td>\\n    </tr>\\n    <tr>\\n      <th>First Record</th>\\n      <td>2nd millennium BC</td>\\n    </tr>\\n    <tr>\\n      <th>Recorded By</th>\\n      <td>Egyptian astronomers</td>\\n    </tr>\\n  </tbody>\\n</table>'"
      ]
     },
     "execution_count": 17,
     "metadata": {},
     "output_type": "execute_result"
    }
   ],
   "source": [
    "html_table=facts_df.to_html()\n",
    "html_table"
   ]
  },
  {
   "cell_type": "code",
   "execution_count": 18,
   "metadata": {},
   "outputs": [],
   "source": [
    "facts_df.to_html('mars_fact_table.html')"
   ]
  },
  {
   "cell_type": "code",
   "execution_count": 19,
   "metadata": {},
   "outputs": [],
   "source": [
    "# def facts():\n",
    "    \n",
    "#     url = 'https://space-facts.com/mars/'\n",
    "#     tables = pd.read_html(url)\n",
    "    \n",
    "#     facts=tables[0]\n",
    "    \n",
    "#     #Remobing the colon\n",
    "#     facts[0]=facts[0].str.strip(\":\")\n",
    "\n",
    "#     #Adding column labels\n",
    "#     facts.columns=['Facts', 'Values']\n",
    "\n",
    "#     #Add Index\n",
    "#     facts_df=facts.set_index('Facts')\n",
    "#     facts_df\n",
    "    \n",
    "#     return facts_df"
   ]
  },
  {
   "cell_type": "code",
   "execution_count": 20,
   "metadata": {},
   "outputs": [],
   "source": [
    "#Opening Broswer\n",
    "base_url='https://astrogeology.usgs.gov'\n",
    "url ='https://astrogeology.usgs.gov/search/results?q=hemisphere+enhanced&k1=target&v1=Mars'\n",
    "browser.visit(url)\n",
    "time.sleep(5)\n",
    "\n",
    "html = browser.html\n",
    "soup = BeautifulSoup(html, \"html.parser\")\n",
    "\n",
    "results4 = soup.find_all('div', class_='description')\n",
    "\n",
    "title=[]\n",
    "links=[]\n",
    "\n",
    "#Saving title/initial address for image\n",
    "for result in results4:\n",
    "    title.append(result.find('h3').text)\n",
    "    links.append(base_url+result.find('a')['href'])\n",
    "\n",
    "    \n",
    "img_url=[]\n",
    "\n",
    "#Saving full image link\n",
    "for link in links:\n",
    "    url = link\n",
    "    browser.visit(url)\n",
    "\n",
    "    html = browser.html\n",
    "    soup = BeautifulSoup(html, \"html.parser\")\n",
    "    \n",
    "    img_url.append(base_url + soup.find('img', class_=\"wide-image\")['src'])\n",
    "\n",
    "\n",
    "#Creating a dictionary\n",
    "hemisphere_image_urls ={'title':title,\n",
    "                       'img_url':img_url}"
   ]
  },
  {
   "cell_type": "code",
   "execution_count": null,
   "metadata": {},
   "outputs": [],
   "source": []
  }
 ],
 "metadata": {
  "kernelspec": {
   "display_name": "Python 3",
   "language": "python",
   "name": "python3"
  },
  "language_info": {
   "codemirror_mode": {
    "name": "ipython",
    "version": 3
   },
   "file_extension": ".py",
   "mimetype": "text/x-python",
   "name": "python",
   "nbconvert_exporter": "python",
   "pygments_lexer": "ipython3",
   "version": "3.7.4"
  }
 },
 "nbformat": 4,
 "nbformat_minor": 4
}
